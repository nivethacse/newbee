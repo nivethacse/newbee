{
 "cells": [
  {
   "cell_type": "markdown",
   "metadata": {},
   "source": [
    "# python commands on windows power shell\n"
   ]
  },
  {
   "cell_type": "markdown",
   "metadata": {},
   "source": [
    "python --version                         (check version)\n",
    "\n",
    "easy-install --version                   (setuptools checker) \n",
    "\n",
    "django-admin --version                   (to check django is installed or not)\n",
    "\n",
    "cd desktop                               (to change directory)\n",
    "\n",
    "cd..\\                                    (going back directory)\n",
    "\n",
    "django-admin startproject website        (here website is project name,this cmd is to start django project)\n",
    "\n",
    "cd.\\website                              (getting into folder)\n",
    "\n",
    "python manage.py runserver               (to runserver)\n",
    "\n",
    "ctrl+c                                   (stop server)\n",
    "\n",
    "python manage.py startapp music          (to start the app)\n",
    "\n",
    ".                                        (current directory)\n",
    "\n",
    "$                                        (end statement)\n",
    "\n",
    "python manage.migrate                    (to connectdatabase)\n",
    "\n",
    "python manage.py makemigration music     (run this command everytime you make change in code)\n",
    "python manage.py migrate\n",
    "\n",
    "python managae.py createsuperuser        (admin interface creater)\n",
    "\n",
    "print(\"\"\"hi\\                             (blackslash used to split the lines)doc string\n",
    "how r u ?\"\"\")  \n",
    "\n",
    "\n",
    "\n",
    " **works on windows power shell**"
   ]
  },
  {
   "cell_type": "markdown",
   "metadata": {},
   "source": [
    "# Command to run in jupyter notebook"
   ]
  },
  {
   "cell_type": "code",
   "execution_count": 2,
   "metadata": {},
   "outputs": [
    {
     "name": "stdout",
     "output_type": "stream",
     "text": [
      "3.7.1\n"
     ]
    }
   ],
   "source": [
    "from platform import python_version         #to check on jupyter notebook\n",
    "print(python_version())"
   ]
  },
  {
   "cell_type": "markdown",
   "metadata": {},
   "source": [
    "## comments and doc string"
   ]
  },
  {
   "cell_type": "code",
   "execution_count": null,
   "metadata": {},
   "outputs": [],
   "source": [
    "def hi():\n",
    "    \"\"\"  this print hi\"\"\"\n",
    "    print(\"hi\")\n",
    "    \n",
    "    \n",
    "  #save the file and to know the document wat is about it used to call the doc string in file to understand the file  \n",
    "     \n",
    "    hi._doc_"
   ]
  },
  {
   "cell_type": "code",
   "execution_count": null,
   "metadata": {},
   "outputs": [],
   "source": [
    "# comments to remember about the code"
   ]
  },
  {
   "cell_type": "markdown",
   "metadata": {},
   "source": [
    "## Defining function"
   ]
  },
  {
   "cell_type": "code",
   "execution_count": 10,
   "metadata": {},
   "outputs": [],
   "source": [
    "def name_of_fun():\n",
    "    print(\"hello\")"
   ]
  },
  {
   "cell_type": "code",
   "execution_count": 11,
   "metadata": {},
   "outputs": [
    {
     "name": "stdout",
     "output_type": "stream",
     "text": [
      "hello\n"
     ]
    }
   ],
   "source": [
    "name_of_fun()"
   ]
  },
  {
   "cell_type": "markdown",
   "metadata": {},
   "source": [
    "## Indentation"
   ]
  },
  {
   "cell_type": "code",
   "execution_count": 1,
   "metadata": {},
   "outputs": [
    {
     "name": "stdout",
     "output_type": "stream",
     "text": [
      "hi\n"
     ]
    }
   ],
   "source": [
    "dog = True\n",
    "if dog:\n",
    "    print(\"hi\")  \n",
    "else:\n",
    "    print(\"hello\") #it creates automatic space in next line to readability"
   ]
  },
  {
   "cell_type": "markdown",
   "metadata": {},
   "source": [
    "## Multi-Line statement"
   ]
  },
  {
   "cell_type": "code",
   "execution_count": 2,
   "metadata": {},
   "outputs": [],
   "source": [
    "a=7; b=7;   #we can define a varaiable on the same line"
   ]
  },
  {
   "cell_type": "markdown",
   "metadata": {},
   "source": [
    "## Quotation"
   ]
  },
  {
   "cell_type": "code",
   "execution_count": 3,
   "metadata": {},
   "outputs": [
    {
     "ename": "SyntaxError",
     "evalue": "invalid syntax (<ipython-input-3-bfb05931d48d>, line 1)",
     "output_type": "error",
     "traceback": [
      "\u001b[1;36m  File \u001b[1;32m\"<ipython-input-3-bfb05931d48d>\"\u001b[1;36m, line \u001b[1;32m1\u001b[0m\n\u001b[1;33m    print(\"hi\"hru\"\")  #this line causes error\u001b[0m\n\u001b[1;37m                ^\u001b[0m\n\u001b[1;31mSyntaxError\u001b[0m\u001b[1;31m:\u001b[0m invalid syntax\n"
     ]
    }
   ],
   "source": [
    "print(\"hi\"hru\"\")  #this line causes error"
   ]
  },
  {
   "cell_type": "code",
   "execution_count": 4,
   "metadata": {},
   "outputs": [
    {
     "name": "stdout",
     "output_type": "stream",
     "text": [
      "hi 'h r u'\n"
     ]
    }
   ],
   "source": [
    "print(\"hi 'h r u'\")"
   ]
  },
  {
   "cell_type": "markdown",
   "metadata": {},
   "source": [
    "##  string formatters"
   ]
  },
  {
   "cell_type": "code",
   "execution_count": 12,
   "metadata": {},
   "outputs": [
    {
     "name": "stdout",
     "output_type": "stream",
     "text": [
      "i printed 10 in hp\n",
      "i printed 10 in hp\n",
      "i printed 10 in hp\n",
      "i printed 20 in dell\n"
     ]
    }
   ],
   "source": [
    "x=10;  scanner=\"hp\";\n",
    "\n",
    "print(\"i printed %s in %s\"%(x,scanner))\n",
    "\n",
    "print(f\"i printed {x} in {scanner}\")     #f-string to define in another method\n",
    "\n",
    "print(\"i printed {0} in {1}\".format(x,scanner))    #format method\n",
    "\n",
    "print(\"i printed {x} in {scanner}\".format(x=20,scanner=\"dell\"))      #defining variable in the same line"
   ]
  },
  {
   "cell_type": "markdown",
   "metadata": {},
   "source": [
    "## local variable"
   ]
  },
  {
   "cell_type": "code",
   "execution_count": 19,
   "metadata": {},
   "outputs": [],
   "source": [
    "def fun():\n",
    "    a=1                    #local declaration of variable \n",
    "    print(a)    "
   ]
  },
  {
   "cell_type": "code",
   "execution_count": 22,
   "metadata": {},
   "outputs": [
    {
     "name": "stdout",
     "output_type": "stream",
     "text": [
      "1\n"
     ]
    }
   ],
   "source": [
    "fun()\n"
   ]
  },
  {
   "cell_type": "markdown",
   "metadata": {},
   "source": [
    "## Global variable"
   ]
  },
  {
   "cell_type": "code",
   "execution_count": 24,
   "metadata": {},
   "outputs": [],
   "source": [
    "a=0\n",
    "def fun():\n",
    "    print(a)             #global declartion of variable can call in any function "
   ]
  },
  {
   "cell_type": "code",
   "execution_count": 25,
   "metadata": {},
   "outputs": [
    {
     "name": "stdout",
     "output_type": "stream",
     "text": [
      "2\n"
     ]
    }
   ],
   "source": [
    "fun()"
   ]
  },
  {
   "cell_type": "markdown",
   "metadata": {},
   "source": [
    "## Non -local"
   ]
  },
  {
   "cell_type": "code",
   "execution_count": 44,
   "metadata": {},
   "outputs": [
    {
     "name": "stdout",
     "output_type": "stream",
     "text": [
      "inner: nonlocal\n",
      "outer: nonlocal\n"
     ]
    }
   ],
   "source": [
    "def fun1():\n",
    "    a = \"local\"\n",
    "    \n",
    "    def fun2():\n",
    "        nonlocal a\n",
    "        a = \"nonlocal\"\n",
    "        print(\"inner:\", a)\n",
    "    fun2()\n",
    "    \n",
    "    \n",
    "    print(\"outer:\", a)\n",
    "\n",
    "fun1()\n",
    "      \n",
    " "
   ]
  }
 ],
 "metadata": {
  "celltoolbar": "Raw Cell Format",
  "kernelspec": {
   "display_name": "Python 3",
   "language": "python",
   "name": "python3"
  },
  "language_info": {
   "codemirror_mode": {
    "name": "ipython",
    "version": 3
   },
   "file_extension": ".py",
   "mimetype": "text/x-python",
   "name": "python",
   "nbconvert_exporter": "python",
   "pygments_lexer": "ipython3",
   "version": "3.7.1"
  }
 },
 "nbformat": 4,
 "nbformat_minor": 2
}
