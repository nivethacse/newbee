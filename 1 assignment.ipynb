{
 "cells": [
  {
   "cell_type": "markdown",
   "metadata": {},
   "source": [
    "## 1. Write a Python program to add the digits of a positive integer repeatedly until the result has a single digit."
   ]
  },
  {
   "cell_type": "code",
   "execution_count": 5,
   "metadata": {
    "slideshow": {
     "slide_type": "notes"
    }
   },
   "outputs": [
    {
     "name": "stdout",
     "output_type": "stream",
     "text": [
      "8\n"
     ]
    }
   ],
   "source": [
    "def add(n):                       #add is the function ,with variable passed in it\n",
    "    if n > 0:                            \n",
    "        return (n-1) % 9 + 1     \n",
    "    else: \n",
    "        return 0\n",
    "print(add(53))                   #add fun called here (5+3=8)\n"
   ]
  },
  {
   "cell_type": "markdown",
   "metadata": {},
   "source": [
    "* note:  any number n has the same reminder,when divided by 9 as the sum of its digits. "
   ]
  },
  {
   "cell_type": "markdown",
   "metadata": {},
   "source": [
    "## 2. Write a Python program to reverse the bits of an integer (32 bits unsigned). Go to the editor"
   ]
  },
  {
   "cell_type": "code",
   "execution_count": 28,
   "metadata": {},
   "outputs": [
    {
     "name": "stdout",
     "output_type": "stream",
     "text": [
      "2147483648\n"
     ]
    }
   ],
   "source": [
    "def reverseBits(num,bitSize): \n",
    "     binary = bin(num)   # convert number into binary \n",
    "     \n",
    "    \n",
    "     reverse = binary[-1:1:-1]  # used to reverse the num  [start:end]\n",
    "     \n",
    "     reverse = reverse + (bitSize - len(reverse))*'0'     \n",
    "     \n",
    "     print(int(reverse,2) )   #used to convert into int values\n",
    "     \n",
    "\n",
    "if __name__ == \"__main__\": \n",
    "    \n",
    "    reverseBits(1,32) "
   ]
  },
  {
   "cell_type": "markdown",
   "metadata": {},
   "source": [
    "## 3. Write a Python program to add two binary numbers"
   ]
  },
  {
   "cell_type": "code",
   "execution_count": null,
   "metadata": {},
   "outputs": [],
   "source": [
    "n1 = '00001'  # dec val 1\n",
    "n2 = '10001'   # dec val 17\n",
    "sum = bin(int(n1,2) + int(n2,2))   #base 2\n",
    "print(sum)"
   ]
  },
  {
   "cell_type": "markdown",
   "metadata": {},
   "source": [
    "## 4.Write a Python program to check if a given string is an anagram of another given string"
   ]
  },
  {
   "cell_type": "code",
   "execution_count": 41,
   "metadata": {},
   "outputs": [
    {
     "name": "stdout",
     "output_type": "stream",
     "text": [
      "not anagrams\n"
     ]
    }
   ],
   "source": [
    "def solve(str1, str2): \n",
    "      \n",
    "    if(sorted(str1)== sorted(str2)):     # sorted(iterable, key, reverse)\n",
    "                                     #sorted is the in built function\n",
    "        print(\"anagrams\")  \n",
    "    else: \n",
    "        print(\"not anagrams\")          \n",
    "          \n",
    "  \n",
    "\n",
    "solve(\"bad\", \"dad\")     "
   ]
  },
  {
   "cell_type": "markdown",
   "metadata": {},
   "source": [
    "*note:   \n",
    "    An anagram is a play on words created by rearranging the letters of the original word to make a new word or phrase"
   ]
  }
 ],
 "metadata": {
  "celltoolbar": "Raw Cell Format",
  "kernelspec": {
   "display_name": "Python 3",
   "language": "python",
   "name": "python3"
  },
  "language_info": {
   "codemirror_mode": {
    "name": "ipython",
    "version": 3
   },
   "file_extension": ".py",
   "mimetype": "text/x-python",
   "name": "python",
   "nbconvert_exporter": "python",
   "pygments_lexer": "ipython3",
   "version": "3.7.1"
  }
 },
 "nbformat": 4,
 "nbformat_minor": 2
}
